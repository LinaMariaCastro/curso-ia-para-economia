{
  "cells": [
    {
      "cell_type": "markdown",
      "id": "DHNQuIqAmvl5",
      "metadata": {
        "id": "DHNQuIqAmvl5"
      },
      "source": [
        "<a href=\"https://colab.research.google.com/github/LinaMariaCastro/curso-ia-para-economia/blob/main/clases/5_Aprendizaje_supervisado/1_Taller_Regresion_Lineal.ipynb\" target=\"_parent\"><img src=\"https://colab.research.google.com/assets/colab-badge.svg\" alt=\"Open In Colab\"/></a>"
      ]
    },
    {
      "cell_type": "markdown",
      "id": "5iiwfbXCQv5D",
      "metadata": {
        "id": "5iiwfbXCQv5D"
      },
      "source": [
        "# **Inteligencia Artificial con Aplicaciones en Economía I**\n",
        "\n",
        "- 👩‍🏫 **Profesora:** [Lina María Castro](https://www.linkedin.com/in/lina-maria-castro)  \n",
        "- 📧 **Email:** [lmcastroco@gmail.com](mailto:lmcastroco@gmail.com)  \n",
        "- 🎓 **Universidad:** Universidad Externado de Colombia - Facultad de Economía"
      ]
    },
    {
      "cell_type": "markdown",
      "id": "dU-UqrDscLfY",
      "metadata": {
        "id": "dU-UqrDscLfY"
      },
      "source": [
        "# **Taller: Regresión Lineal**"
      ]
    },
    {
      "cell_type": "markdown",
      "id": "0dQjQRRI-Jwh",
      "metadata": {
        "id": "0dQjQRRI-Jwh"
      },
      "source": [
        "**IMPORTANTE**: Guarda una copia de este notebook en tu Google Drive o computador."
      ]
    },
    {
      "cell_type": "markdown",
      "id": "q_CzcRIty0sF",
      "metadata": {
        "id": "q_CzcRIty0sF"
      },
      "source": [
        "**Taller en parejas**"
      ]
    },
    {
      "cell_type": "markdown",
      "id": "NyfFoG84-DmF",
      "metadata": {
        "id": "NyfFoG84-DmF"
      },
      "source": [
        "**Nombres estudiantes:**\n",
        "\n",
        "-\n",
        "-"
      ]
    },
    {
      "cell_type": "markdown",
      "id": "KcbzsUiz025j",
      "metadata": {
        "id": "KcbzsUiz025j"
      },
      "source": [
        "**Forma de entrega**\n",
        "\n",
        "Jupyter Notebook publicado en su cuenta de Github con el nombre “Taller_Reg_Lineal_apellidos_estudiantes.ipynb”.\n",
        "\n",
        "**Plazo de entrega**\n",
        "\n",
        "29 de octubre, máximo a las 11:59 p.m., debes enviar link del notebook al correo lina.castro6@uexternado.edu.co, de lo contrario, no será tenido en cuenta.\n",
        "\n",
        "**Instrucciones Generales**\n",
        "\n",
        "Completa el código en las celdas marcadas con `### TU CÓDIGO AQUÍ ###`. Puedes añadir más celdas si lo requieres."
      ]
    },
    {
      "cell_type": "markdown",
      "id": "MbrAKcwwhtgi",
      "metadata": {
        "id": "MbrAKcwwhtgi"
      },
      "source": [
        "Contexto: Tu Primer Proyecto en AutoAnalitica 📈 🚗\n",
        "\n",
        "¡Felicitaciones! Has sido contratado como Científico de Datos Junior en AutoAnalitica, una firma de consultoría líder que asesora a grandes concesionarios de autos usados en el país.\n",
        "\n",
        "Tu primer proyecto es construir un prototipo de modelo de pricing inteligente. La gerencia de uno de nuestros clientes principales está preocupada porque sus agentes de ventas tasan los vehículos que reciben basándose únicamente en su intuición, lo que genera precios inconsistentes y pérdida de oportunidades.\n",
        "\n",
        "El objetivo: Desarrollar un modelo de machine learning que pueda predecir el precio de venta justo de un automóvil basándose en sus características (antigüedad, kilómetros recorridos, tipo de combustible, etc.). Esta herramienta no busca reemplazar al vendedor, sino darle un precio base, basado en datos, para hacer ofertas más rápidas, justas y competitivas. Tu misión hoy es construir el primer modelo base y evaluar su precisión."
      ]
    },
    {
      "cell_type": "markdown",
      "id": "uC6BKFk0Vepw",
      "metadata": {
        "id": "uC6BKFk0Vepw"
      },
      "source": [
        "# 1. Importar librerías necesarias"
      ]
    },
    {
      "cell_type": "code",
      "execution_count": null,
      "id": "QVVqykyJVepx",
      "metadata": {
        "id": "QVVqykyJVepx"
      },
      "outputs": [],
      "source": [
        "### TU CÓDIGO AQUÍ ###\n"
      ]
    },
    {
      "cell_type": "markdown",
      "id": "jHE2ZLJuEPIe",
      "metadata": {
        "id": "jHE2ZLJuEPIe"
      },
      "source": [
        "### Mejorar visualización de dataframes y gráficos"
      ]
    },
    {
      "cell_type": "code",
      "execution_count": null,
      "id": "72TA8V1fETCm",
      "metadata": {
        "id": "72TA8V1fETCm"
      },
      "outputs": [],
      "source": [
        "# Que muestre todas las columnas\n",
        "pd.options.display.max_columns = None\n",
        "# En los dataframes, mostrar los float con dos decimales\n",
        "pd.options.display.float_format = '{:,.2f}'.format\n",
        "\n",
        "# Configuraciones para una mejor visualización\n",
        "sns.set(style='whitegrid')\n",
        "plt.rcParams['figure.figsize'] = (10, 6)"
      ]
    },
    {
      "cell_type": "markdown",
      "id": "Xdm1I4N2Zh6W",
      "metadata": {
        "id": "Xdm1I4N2Zh6W"
      },
      "source": [
        "# 2. Cargar el dataset `car data.csv`."
      ]
    },
    {
      "cell_type": "markdown",
      "id": "FSMaXMGLle4T",
      "metadata": {
        "id": "FSMaXMGLle4T"
      },
      "source": [
        "- Car_Name: The name of each car.\n",
        "- Year: The year that the car was bought.\n",
        "- Selling_Price: The price that the car has at the sale time (thousands of USD). **Esta es la variable objetivo.**\n",
        "- Present_Price: The price that car has right now (thousands of USD).\n",
        "- Kms_Driven: The number of kilometers that the car is driven.\n",
        "- Fuel_Type: The type of fuel that the car consumes.\n",
        "- Seller_Type: The type of car seller: individual or dealer.\n",
        "- Transmission: The type of the car gear: manual or automatic.\n",
        "- Owner: The number of previous owners of the car."
      ]
    },
    {
      "cell_type": "code",
      "execution_count": null,
      "id": "o6yFPDwIVepz",
      "metadata": {
        "id": "o6yFPDwIVepz"
      },
      "outputs": [],
      "source": [
        "# Carga el dataset\n",
        "### TU CÓDIGO AQUÍ ###\n"
      ]
    },
    {
      "cell_type": "code",
      "execution_count": null,
      "id": "iFz_1f4rWEvl",
      "metadata": {
        "id": "iFz_1f4rWEvl"
      },
      "outputs": [],
      "source": [
        "# Mostrar las primeras filas para entender la estructura\n",
        "### TU CÓDIGO AQUÍ ###\n"
      ]
    },
    {
      "cell_type": "markdown",
      "id": "IbwYOkv_Vep4",
      "metadata": {
        "id": "IbwYOkv_Vep4"
      },
      "source": [
        "# 3. Análisis Exploratorio de Datos (EDA) y preparación de datos"
      ]
    },
    {
      "cell_type": "code",
      "execution_count": null,
      "id": "f8_qLSPfb8-h",
      "metadata": {
        "id": "f8_qLSPfb8-h"
      },
      "outputs": [],
      "source": [
        "df.info()"
      ]
    },
    {
      "cell_type": "code",
      "execution_count": null,
      "id": "sqpoN709cecC",
      "metadata": {
        "id": "sqpoN709cecC"
      },
      "outputs": [],
      "source": [
        "# Revisa si hay filas duplicadas y elíminalas\n",
        "### TU CÓDIGO AQUÍ ###\n"
      ]
    },
    {
      "cell_type": "code",
      "execution_count": null,
      "id": "5BNgm8sfcA8q",
      "metadata": {
        "id": "5BNgm8sfcA8q"
      },
      "outputs": [],
      "source": [
        "# Muestras las estadísticas descriptivas\n",
        "### TU CÓDIGO AQUÍ ###\n"
      ]
    },
    {
      "cell_type": "code",
      "execution_count": null,
      "id": "IesJ6PaSfRiY",
      "metadata": {
        "id": "IesJ6PaSfRiY"
      },
      "outputs": [],
      "source": [
        "# Grafica un histograma para ver la distribución de la variable objetivo \"Selling_Price\"\n",
        "### TU CÓDIGO AQUÍ ###\n"
      ]
    },
    {
      "cell_type": "markdown",
      "id": "prSlmFWTfhJ4",
      "metadata": {
        "id": "prSlmFWTfhJ4"
      },
      "source": [
        "Escribe tus conclusiones aquí."
      ]
    },
    {
      "cell_type": "code",
      "execution_count": null,
      "id": "Jk-YhaB5Vep4",
      "metadata": {
        "id": "Jk-YhaB5Vep4"
      },
      "outputs": [],
      "source": [
        "# Visualiza la relación entre 'Kms_Driven' y 'Selling_Price'\n",
        "### TU CÓDIGO AQUÍ ###\n"
      ]
    },
    {
      "cell_type": "markdown",
      "id": "ijxTQYJBVep5",
      "metadata": {
        "id": "ijxTQYJBVep5"
      },
      "source": [
        "Basado en el gráfico, ¿qué tipo de relación observas? ¿Es lo que esperabas económicamente?"
      ]
    },
    {
      "cell_type": "code",
      "execution_count": null,
      "id": "u84ZrjpcdBni",
      "metadata": {
        "id": "u84ZrjpcdBni"
      },
      "outputs": [],
      "source": [
        "# Crea la variable \"Car_Age\" que será la resta entre el año actual y el año del carro\n",
        "### TU CÓDIGO AQUÍ ###\n"
      ]
    },
    {
      "cell_type": "code",
      "execution_count": null,
      "id": "uu68wnUya2Yx",
      "metadata": {
        "id": "uu68wnUya2Yx"
      },
      "outputs": [],
      "source": [
        "# Elimina la columna 'Car_Name' que no usaremos\n",
        "### TU CÓDIGO AQUÍ ###\n"
      ]
    },
    {
      "cell_type": "code",
      "execution_count": null,
      "id": "AzJSmjTvVep5",
      "metadata": {
        "id": "AzJSmjTvVep5"
      },
      "outputs": [],
      "source": [
        "# Calcula la matriz de correlación para las variables numéricas y grafica el heatmap\n",
        "### TU CÓDIGO AQUÍ ###\n"
      ]
    },
    {
      "cell_type": "markdown",
      "id": "oBXdPb1ufGSZ",
      "metadata": {
        "id": "oBXdPb1ufGSZ"
      },
      "source": [
        "Escribe tus conclusiones aquí."
      ]
    },
    {
      "cell_type": "code",
      "execution_count": null,
      "id": "FFYnIg6ne1qF",
      "metadata": {
        "id": "FFYnIg6ne1qF"
      },
      "outputs": [],
      "source": [
        "# Realiza un gráfico de pairplot para ver el comportamiento de las variables independientes y la dependiente \"Selling_Price\"\n",
        "### TU CÓDIGO AQUÍ ###\n"
      ]
    },
    {
      "cell_type": "markdown",
      "id": "-3riWddRe-GJ",
      "metadata": {
        "id": "-3riWddRe-GJ"
      },
      "source": [
        "Escribe tus conclusiones aquí."
      ]
    },
    {
      "cell_type": "code",
      "execution_count": null,
      "id": "VO7nSsWtVep7",
      "metadata": {
        "id": "VO7nSsWtVep7"
      },
      "outputs": [],
      "source": [
        "# Convierte variables categóricas a numéricas para que el modelo las entienda.\n",
        "# La regresión lineal no puede trabajar con texto ('Petrol', 'Dealer').\n",
        "# Usaremos One-Hot Encoding con pd.get_dummies() para convertirlas.\n",
        "# drop_first=True es importante para evitar multicolinealidad perfecta en las variables dummy\n",
        "### TU CÓDIGO AQUÍ ###\n"
      ]
    },
    {
      "cell_type": "markdown",
      "id": "SE45BhyKVep9",
      "metadata": {
        "id": "SE45BhyKVep9"
      },
      "source": [
        "# 4. Construcción y Evaluación del Modelo"
      ]
    },
    {
      "cell_type": "code",
      "execution_count": null,
      "id": "j8uaG__uVep-",
      "metadata": {
        "id": "j8uaG__uVep-"
      },
      "outputs": [],
      "source": [
        "# Define tus variables X e y\n",
        "### TU CÓDIGO AQUÍ ###\n"
      ]
    },
    {
      "cell_type": "code",
      "execution_count": null,
      "id": "A3sp3ECZVep-",
      "metadata": {
        "id": "A3sp3ECZVep-"
      },
      "outputs": [],
      "source": [
        "# Divide los datos en entrenamiento y prueba (80% / 20%)\n",
        "### TU CÓDIGO AQUÍ ###\n"
      ]
    },
    {
      "cell_type": "code",
      "execution_count": null,
      "id": "1F1J9l0nVep_",
      "metadata": {
        "id": "1F1J9l0nVep_"
      },
      "outputs": [],
      "source": [
        "# Entrena el modelo de Regresión Lineal\n",
        "### TU CÓDIGO AQUÍ ###\n"
      ]
    },
    {
      "cell_type": "code",
      "execution_count": null,
      "id": "dNy-LCDRVep_",
      "metadata": {
        "id": "dNy-LCDRVep_"
      },
      "outputs": [],
      "source": [
        "# Realiza predicciones sobre el conjunto de prueba\n",
        "### TU CÓDIGO AQUÍ ###\n"
      ]
    },
    {
      "cell_type": "code",
      "execution_count": null,
      "id": "hRT-w0CLVep_",
      "metadata": {
        "id": "hRT-w0CLVep_"
      },
      "outputs": [],
      "source": [
        "# Calcula las métricas de evaluación (RMSE y R2) para entrenamiento y prueba y compáralas\n",
        "### TU CÓDIGO AQUÍ ###\n"
      ]
    },
    {
      "cell_type": "markdown",
      "id": "wJY-pITlVeqA",
      "metadata": {
        "id": "wJY-pITlVeqA"
      },
      "source": [
        "# 5. Conclusión para el Cliente"
      ]
    },
    {
      "cell_type": "markdown",
      "id": "puiGLU4KVeqA",
      "metadata": {
        "id": "puiGLU4KVeqA"
      },
      "source": [
        "*Escribe un párrafo para los gerentes de 'AutoAnalitica'.*\n",
        "\n",
        "1. Empieza explicando qué es el RMSE en términos sencillos (ej. \"nuestro modelo se equivoca en promedio en...\"). Recuerda que el precio en el dataset está en miles de dólares.\n"
      ]
    },
    {
      "cell_type": "markdown",
      "id": "j9CHVzMWg1um",
      "metadata": {
        "id": "j9CHVzMWg1um"
      },
      "source": [
        "2. Termina dando tu recomendación: ¿Es este modelo lo suficientemente bueno como un primer paso? ¿Para qué podría ser útil?"
      ]
    }
  ],
  "metadata": {
    "colab": {
      "provenance": []
    },
    "kernelspec": {
      "display_name": "Python 3 (ipykernel)",
      "language": "python",
      "name": "python3"
    },
    "language_info": {
      "codemirror_mode": {
        "name": "ipython",
        "version": 3
      },
      "file_extension": ".py",
      "mimetype": "text/x-python",
      "name": "python",
      "nbconvert_exporter": "python",
      "pygments_lexer": "ipython3",
      "version": "3.10.12"
    }
  },
  "nbformat": 4,
  "nbformat_minor": 5
}
