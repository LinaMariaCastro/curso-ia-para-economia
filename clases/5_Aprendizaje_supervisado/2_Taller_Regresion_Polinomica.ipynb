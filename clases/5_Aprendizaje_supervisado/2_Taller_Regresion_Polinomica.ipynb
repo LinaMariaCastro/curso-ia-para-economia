{
  "cells": [
    {
      "cell_type": "markdown",
      "source": [
        "<a href=\"https://colab.research.google.com/github/LinaMariaCastro/curso-ia-para-economia/blob/main/clases/5_Aprendizaje_supervisado/2_Taller_Regresion_Polinomica.ipynb\" target=\"_parent\"><img src=\"https://colab.research.google.com/assets/colab-badge.svg\" alt=\"Open In Colab\"/></a>"
      ],
      "metadata": {
        "id": "DHNQuIqAmvl5"
      },
      "id": "DHNQuIqAmvl5"
    },
    {
      "cell_type": "markdown",
      "source": [
        "# **Inteligencia Artificial con Aplicaciones en Economía I**\n",
        "\n",
        "- 👩‍🏫 **Profesora:** [Lina María Castro](https://www.linkedin.com/in/lina-maria-castro)  \n",
        "- 📧 **Email:** [lmcastroco@gmail.com](mailto:lmcastroco@gmail.com)  \n",
        "- 🎓 **Universidad:** Universidad Externado de Colombia - Facultad de Economía"
      ],
      "metadata": {
        "id": "5iiwfbXCQv5D"
      },
      "id": "5iiwfbXCQv5D"
    },
    {
      "cell_type": "markdown",
      "source": [
        "# **Taller: Regresión Polinómica, Subajuste, Sobreajuste y Regularización**"
      ],
      "metadata": {
        "id": "hMbNeP0UAK4Y"
      },
      "id": "hMbNeP0UAK4Y"
    },
    {
      "cell_type": "markdown",
      "source": [
        "**IMPORTANTE**: Guarda una copia de este notebook en tu Google Drive o computador."
      ],
      "metadata": {
        "id": "0dQjQRRI-Jwh"
      },
      "id": "0dQjQRRI-Jwh"
    },
    {
      "cell_type": "markdown",
      "source": [
        "**Taller en parejas**"
      ],
      "metadata": {
        "id": "q_CzcRIty0sF"
      },
      "id": "q_CzcRIty0sF"
    },
    {
      "cell_type": "markdown",
      "source": [
        "**Nombres estudiantes:**\n",
        "\n",
        "-\n",
        "-"
      ],
      "metadata": {
        "id": "NyfFoG84-DmF"
      },
      "id": "NyfFoG84-DmF"
    },
    {
      "cell_type": "markdown",
      "source": [
        "**Forma de entrega**\n",
        "\n",
        "Jupyter Notebook publicado en su cuenta de Github con el nombre “Taller_Reg_Polin_apellidos_estudiantes.ipynb”.\n",
        "\n",
        "**Plazo de entrega**\n",
        "\n",
        "30 de octubre, máximo a las 11:59 p.m., debes enviar link del notebook al correo lina.castro6@uexternado.edu.co, de lo contrario, no será tenido en cuenta.\n",
        "\n",
        "**Instrucciones Generales**\n",
        "\n",
        "Completa el código en las celdas marcadas con `### TU CÓDIGO AQUÍ ###`. Puedes añadir más celdas si lo requieres."
      ],
      "metadata": {
        "id": "KcbzsUiz025j"
      },
      "id": "KcbzsUiz025j"
    },
    {
      "cell_type": "markdown",
      "metadata": {
        "id": "yN5HlydQsFNq"
      },
      "source": [
        "## **Situación**\n",
        "\n",
        "Una importante firma de inversión inmobiliaria te ha contratado como consultor de ciencia de datos. Su proceso actual de valoración de propiedades es lento y se basa en la intuición de unos pocos expertos. Quieren que desarrolles un modelo de machine learning para predecir el precio de venta de las viviendas (`SalePrice`) de forma más precisa y sistemática.\n",
        "\n",
        "Te han entregado el dataset \"Ames Housing\", que contiene una gran cantidad de información sobre viviendas vendidas recientemente. Tu tarea es construir el mejor modelo posible, pero más importante aún, justificar por qué tu modelo es robusto y fiable, explicando cómo has manejado la complejidad y el riesgo de sobreajuste."
      ],
      "id": "yN5HlydQsFNq"
    },
    {
      "cell_type": "markdown",
      "metadata": {
        "id": "W9ZI0LAzsFNz"
      },
      "source": [
        "### **Ejercicio 1: Carga y Preparación Inicial de los Datos**\n",
        "\n",
        "Primero, carguemos las librerías necesarias y el dataset. Nos enfocaremos en un subconjunto de las variables numéricas para mantener el taller manejable, pero el principio se aplica a todo el dataset."
      ],
      "id": "W9ZI0LAzsFNz"
    },
    {
      "cell_type": "code",
      "source": [
        "# Importa las librerías necesarias\n",
        "### TU CÓDIGO AQUÍ ###\n"
      ],
      "metadata": {
        "id": "Vl3GJ5urBjOo"
      },
      "id": "Vl3GJ5urBjOo",
      "execution_count": null,
      "outputs": []
    },
    {
      "cell_type": "markdown",
      "source": [
        "Mejorar visualización de dataframes y gráficos"
      ],
      "metadata": {
        "id": "jHE2ZLJuEPIe"
      },
      "id": "jHE2ZLJuEPIe"
    },
    {
      "cell_type": "code",
      "source": [
        "# Que muestre todas las columnas\n",
        "pd.options.display.max_columns = None\n",
        "# En los dataframes, mostrar los float con dos decimales\n",
        "pd.options.display.float_format = '{:,.2f}'.format\n",
        "\n",
        "# Configuraciones para una mejor visualización\n",
        "sns.set(style='whitegrid')\n",
        "plt.rcParams['figure.figsize'] = (10, 6)"
      ],
      "metadata": {
        "id": "72TA8V1fETCm"
      },
      "execution_count": null,
      "outputs": [],
      "id": "72TA8V1fETCm"
    },
    {
      "cell_type": "markdown",
      "source": [
        "Cargar el dataset"
      ],
      "metadata": {
        "id": "5rrXP_2CCzPM"
      },
      "id": "5rrXP_2CCzPM"
    },
    {
      "cell_type": "code",
      "source": [
        "# Usamos el dataset Ames Housing desde su fuente original (requiere internet)\n",
        "url = 'http://jse.amstat.org/v19n3/decock/AmesHousing.txt'\n",
        "df = pd.read_csv(url, sep='\\t')\n",
        "df.head()"
      ],
      "metadata": {
        "id": "DhXpW0mVCAy6"
      },
      "id": "DhXpW0mVCAy6",
      "execution_count": null,
      "outputs": []
    },
    {
      "cell_type": "code",
      "execution_count": null,
      "metadata": {
        "tags": [],
        "id": "WTi-7zupsFN0"
      },
      "outputs": [],
      "source": [
        "# Para este taller, solo usaremos algunas columnas clave para simplificar.\n",
        "df_sub = df[['Overall Qual', 'Gr Liv Area', 'SalePrice']].copy()\n",
        "df_sub.columns = ['OverallQual', 'GrLivArea', 'SalePrice'] # Renombrar para facilidad\n",
        "df_sub.head()"
      ],
      "id": "WTi-7zupsFN0"
    },
    {
      "cell_type": "markdown",
      "source": [
        "**Explicación de las variables del dataset reducido**\n",
        "\n",
        "1. SalePrice: Precio de Venta.\n",
        "\n",
        "Esta es la variable objetivo. Es el precio final por el cual se vendió la propiedad, medido en dólares estadounidenses.\n",
        "\n",
        "2. OverallQual: Calidad General.\n",
        "\n",
        "Es una variable ordinal que califica la calidad general del material y el acabado de la casa. Es una de las variables predictoras (X) más importantes.\n",
        "\n",
        "Escala: Va de 1 a 10.\n",
        "\n",
        "10: Muy Excelente\n",
        "\n",
        "9: Excelente\n",
        "\n",
        "...\n",
        "\n",
        "2: Pobre\n",
        "\n",
        "1: Muy Pobre\n",
        "\n",
        "3. GrLivArea: Área Habitable sobre el Nivel del Suelo.\n",
        "\n",
        "Es una variable numérica que mide el total de metros cuadrados de área habitable que está por encima del nivel del suelo. No incluye el área del sótano. Es una de las variables predictoras (X) más fuertes, ya que, lógicamente, casas más grandes tienden a ser más caras."
      ],
      "metadata": {
        "id": "Bt6Y6Q0gG9__"
      },
      "id": "Bt6Y6Q0gG9__"
    },
    {
      "cell_type": "code",
      "source": [
        "df_sub.info()"
      ],
      "metadata": {
        "id": "AiEoz-FUCZv4"
      },
      "id": "AiEoz-FUCZv4",
      "execution_count": null,
      "outputs": []
    },
    {
      "cell_type": "markdown",
      "metadata": {
        "id": "6IBBZp1RsFN6"
      },
      "source": [
        "### **Ejercicio 2: Dividir el conjunto de datos**\n",
        "\n",
        "El método `.info()` muestra que no hay nulos en nuestro subconjunto. ¡Perfecto! Ahora, definamos nuestras variables `X` (predictoras) e `y` (objetivo) y dividamos los datos."
      ],
      "id": "6IBBZp1RsFN6"
    },
    {
      "cell_type": "code",
      "source": [
        "# Definir X e y\n",
        "### TU CÓDIGO AQUÍ ###\n"
      ],
      "metadata": {
        "id": "sYwM2W3GC-V6"
      },
      "id": "sYwM2W3GC-V6",
      "execution_count": null,
      "outputs": []
    },
    {
      "cell_type": "code",
      "source": [
        "# Dividir en entrenamiento y prueba (70/30)\n",
        "### TU CÓDIGO AQUÍ ###\n"
      ],
      "metadata": {
        "id": "whTq7wyjDC8x"
      },
      "id": "whTq7wyjDC8x",
      "execution_count": null,
      "outputs": []
    },
    {
      "cell_type": "markdown",
      "metadata": {
        "id": "u4Ip7koMsFN8"
      },
      "source": [
        "### **Ejercicio 3: Modelo con Sobreajuste**\n",
        "\n",
        "Vamos a crear un modelo muy complejo para ver qué tan mal puede generalizar."
      ],
      "id": "u4Ip7koMsFN8"
    },
    {
      "cell_type": "markdown",
      "metadata": {
        "id": "pecZI_FJsFN9"
      },
      "source": [
        "**Crear un Modelo Polinómico de Grado 5**\n",
        "\n",
        "Usa `Pipeline` para combinar `PolynomialFeatures` (grado 5), `StandardScaler` y `LinearRegression`. Entrénalo con los datos de entrenamiento."
      ],
      "id": "pecZI_FJsFN9"
    },
    {
      "cell_type": "code",
      "source": [
        "# Crear el pipeline para el modelo polinómico\n",
        "### TU CÓDIGO AQUÍ ###\n"
      ],
      "metadata": {
        "id": "KZU9RoOyDQ0K"
      },
      "id": "KZU9RoOyDQ0K",
      "execution_count": null,
      "outputs": []
    },
    {
      "cell_type": "code",
      "source": [
        "# Entrenar el modelo\n",
        "### TU CÓDIGO AQUÍ ###\n"
      ],
      "metadata": {
        "id": "9wiKGCOPDSXu"
      },
      "id": "9wiKGCOPDSXu",
      "execution_count": null,
      "outputs": []
    },
    {
      "cell_type": "code",
      "source": [
        "# Calcular el error (RMSE) en entrenamiento y prueba y realizar un print de estos\n",
        "### TU CÓDIGO AQUÍ ###\n"
      ],
      "metadata": {
        "id": "cYsRJl2mDT4S"
      },
      "id": "cYsRJl2mDT4S",
      "execution_count": null,
      "outputs": []
    },
    {
      "cell_type": "markdown",
      "metadata": {
        "tags": [],
        "id": "aKdek1TmsFN_"
      },
      "source": [
        "**Pregunta:** ¿Qué indica la diferencia que observas entre el error de entrenamiento y el de prueba? ¿Le recomendarías este modelo a la firma inmobiliaria? ¿Por qué?"
      ],
      "id": "aKdek1TmsFN_"
    },
    {
      "cell_type": "markdown",
      "metadata": {
        "id": "Sex0EvDYsFOA"
      },
      "source": [
        "### **Ejercicio 4: Aplicar Regularización**\n",
        "\n",
        "Ahora, vamos a \"curar\" el sobreajuste. Usaremos los mismos `PolynomialFeatures` de grado 5, pero cambiaremos el modelo de regresión."
      ],
      "id": "Sex0EvDYsFOA"
    },
    {
      "cell_type": "markdown",
      "metadata": {
        "id": "2gLThhaSsFOA"
      },
      "source": [
        "**Implementar Regresión Ridge**\n",
        "\n",
        "Copia el pipeline anterior, pero reemplaza `LinearRegression` con `Ridge(alpha=10)`. `alpha` es la fuerza de la penalización."
      ],
      "id": "2gLThhaSsFOA"
    },
    {
      "cell_type": "code",
      "source": [
        "# Crear el pipeline para Ridge\n",
        "### TU CÓDIGO AQUÍ ###\n"
      ],
      "metadata": {
        "id": "fszydGUsD4LK"
      },
      "id": "fszydGUsD4LK",
      "execution_count": null,
      "outputs": []
    },
    {
      "cell_type": "code",
      "source": [
        "# Entrenar el modelo\n",
        "### TU CÓDIGO AQUÍ ###\n"
      ],
      "metadata": {
        "id": "U6eN02dBD6VZ"
      },
      "id": "U6eN02dBD6VZ",
      "execution_count": null,
      "outputs": []
    },
    {
      "cell_type": "code",
      "source": [
        "# Calcular el error (RMSE) en entrenamiento y prueba y realizar un print de estos\n",
        "### TU CÓDIGO AQUÍ ###\n"
      ],
      "metadata": {
        "id": "ByyQb7LYD7zm"
      },
      "id": "ByyQb7LYD7zm",
      "execution_count": null,
      "outputs": []
    },
    {
      "cell_type": "markdown",
      "metadata": {
        "tags": [],
        "id": "ricOLDYisFOC"
      },
      "source": [
        "**Interpreta los resultados:**"
      ],
      "id": "ricOLDYisFOC"
    },
    {
      "cell_type": "markdown",
      "metadata": {
        "id": "CkdazzFFsFOD"
      },
      "source": [
        "**Implementar Regresión Lasso**\n",
        "\n",
        "Haz lo mismo, pero ahora con `Lasso(alpha=500, max_iter=10000)`. Lasso necesita un `alpha` más grande (porque la penalización L1 es diferente) y a veces más `max_iter` para converger."
      ],
      "id": "CkdazzFFsFOD"
    },
    {
      "cell_type": "code",
      "source": [
        "# Crear el pipeline para Lasso\n",
        "### TU CÓDIGO AQUÍ ###\n"
      ],
      "metadata": {
        "id": "R5la0lWkEJP1"
      },
      "id": "R5la0lWkEJP1",
      "execution_count": null,
      "outputs": []
    },
    {
      "cell_type": "code",
      "source": [
        "# Entrenar el modelo\n",
        "### TU CÓDIGO AQUÍ ###\n"
      ],
      "metadata": {
        "id": "RIMxadJYEKyI"
      },
      "id": "RIMxadJYEKyI",
      "execution_count": null,
      "outputs": []
    },
    {
      "cell_type": "code",
      "source": [
        "# Calcular el error (RMSE) en entrenamiento y prueba y realizar un print de estos\n",
        "### TU CÓDIGO AQUÍ ###\n"
      ],
      "metadata": {
        "id": "QMgyJ1ssENoI"
      },
      "id": "QMgyJ1ssENoI",
      "execution_count": null,
      "outputs": []
    },
    {
      "cell_type": "markdown",
      "metadata": {
        "tags": [],
        "id": "28KWS3hOMo12"
      },
      "source": [
        "**Interpreta los resultados:**"
      ],
      "id": "28KWS3hOMo12"
    },
    {
      "cell_type": "markdown",
      "metadata": {
        "id": "ZmnFJ5VFsFOE"
      },
      "source": [
        "**Selección de Variables con Lasso**\n",
        "\n",
        "Una de las grandes ventajas de Lasso es que puede eliminar variables. Vamos a ver cuántas de las características polinómicas que creamos (ej. `OverallQual^2`, `GrLivArea^5`, `OverallQual * GrLivArea^4`, etc.) fueron eliminadas."
      ],
      "id": "ZmnFJ5VFsFOE"
    },
    {
      "cell_type": "code",
      "source": [
        "# Extraer los coeficientes del modelo Lasso\n",
        "### TU CÓDIGO AQUÍ ###\n"
      ],
      "metadata": {
        "id": "-2moZJT8EY_c"
      },
      "id": "-2moZJT8EY_c",
      "execution_count": null,
      "outputs": []
    },
    {
      "cell_type": "code",
      "source": [
        "# Extraer los nombres de las características generadas\n",
        "# Guíate por el siguiente código: feature_names = pipeline_lasso.named_steps['poly_features'].get_feature_names_out(X.columns)\n",
        "### TU CÓDIGO AQUÍ ###"
      ],
      "metadata": {
        "id": "9lyN8Y6GEZmt"
      },
      "id": "9lyN8Y6GEZmt",
      "execution_count": null,
      "outputs": []
    },
    {
      "cell_type": "code",
      "source": [
        "# Contar cuántos coeficientes son exactamente cero\n",
        "### TU CÓDIGO AQUÍ ###\n"
      ],
      "metadata": {
        "id": "PVzxOmlsEgdH"
      },
      "id": "PVzxOmlsEgdH",
      "execution_count": null,
      "outputs": []
    },
    {
      "cell_type": "code",
      "source": [
        "# Realizar un print de:\n",
        "# Número total de características polinómicas generadas\n",
        "# Número de características eliminadas por Lasso (coef = 0)\n",
        "# Número de características CONSERVADAS\n",
        "# Porcentaje de variables eliminadas\n",
        "# Lista con los nombres de las características conservadas por Lasso (coef != 0)\n",
        "\n",
        "### TU CÓDIGO AQUÍ ###\n"
      ],
      "metadata": {
        "id": "4nCkn-OrKyuc"
      },
      "id": "4nCkn-OrKyuc",
      "execution_count": null,
      "outputs": []
    },
    {
      "cell_type": "markdown",
      "metadata": {
        "tags": [],
        "id": "1rpwJV7osFOF"
      },
      "source": [
        "**Interpreta los resultados:**"
      ],
      "id": "1rpwJV7osFOF"
    },
    {
      "cell_type": "markdown",
      "metadata": {
        "id": "SH0dRpYPsFOG"
      },
      "source": [
        "### **Ejercicio 5: Conclusión y Recomendación para el Cliente**"
      ],
      "id": "SH0dRpYPsFOG"
    },
    {
      "cell_type": "markdown",
      "metadata": {
        "id": "VLFp0V1xsFOG"
      },
      "source": [
        "**Resumir los Resultados**\n",
        "\n",
        "Crea un `DataFrame` de pandas que compare el RMSE de entrenamiento y prueba de los tres modelos (Polinómico, Ridge, Lasso) y ordena los modelos según el RMSE de prueba de menor a mayor."
      ],
      "id": "VLFp0V1xsFOG"
    },
    {
      "cell_type": "code",
      "execution_count": null,
      "metadata": {
        "tags": [],
        "id": "ZPNjYalBsFOG"
      },
      "outputs": [],
      "source": [
        "# Crear DataFrame de resultados\n",
        "### TU CÓDIGO AQUÍ ###\n"
      ],
      "id": "ZPNjYalBsFOG"
    },
    {
      "cell_type": "markdown",
      "metadata": {
        "id": "jgSYXgXbsFOH"
      },
      "source": [
        "**Pregunta Final:**\n",
        "\n",
        "Basado en tu análisis, ¿qué modelo le recomendarías a la firma inmobiliaria? Tu respuesta debe incluir:\n",
        "\n",
        "1.  Una recomendación clara del mejor modelo.\n",
        "2.  Una explicación en términos sencillos (para un gerente, no para un científico de datos) de por qué el modelo polinómico simple no era una buena idea, usando el concepto de \"memorizar vs. generalizar\".\n",
        "3.  Una descripción de la ventaja principal del modelo Lasso en cuanto a la interpretabilidad y la selección de las características más importantes."
      ],
      "id": "jgSYXgXbsFOH"
    }
  ],
  "metadata": {
    "kernelspec": {
      "display_name": "Python 3 (ipykernel)",
      "language": "python",
      "name": "python3"
    },
    "language_info": {
      "codemirror_mode": {
        "name": "ipython",
        "version": 3
      },
      "file_extension": ".py",
      "mimetype": "text/x-python",
      "name": "python",
      "nbconvert_exporter": "python",
      "pygments_lexer": "ipython3",
      "version": "3.10.9"
    },
    "colab": {
      "provenance": []
    }
  },
  "nbformat": 4,
  "nbformat_minor": 5
}