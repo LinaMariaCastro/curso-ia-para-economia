{
  "cells": [
    {
      "cell_type": "markdown",
      "id": "DHNQuIqAmvl5",
      "metadata": {
        "id": "DHNQuIqAmvl5"
      },
      "source": [
        "<a href=\"https://colab.research.google.com/github/LinaMariaCastro/curso-ia-para-economia/blob/main/clases/5_Aprendizaje_supervisado/2_Regresion_Polinomica.ipynb\" target=\"_parent\"><img src=\"https://colab.research.google.com/assets/colab-badge.svg\" alt=\"Open In Colab\"/></a>"
      ]
    },
    {
      "cell_type": "markdown",
      "id": "5iiwfbXCQv5D",
      "metadata": {
        "id": "5iiwfbXCQv5D"
      },
      "source": [
        "# **Inteligencia Artificial con Aplicaciones en Economía I**\n",
        "\n",
        "- 👩‍🏫 **Profesora:** [Lina María Castro](https://www.linkedin.com/in/lina-maria-castro)  \n",
        "- 📧 **Email:** [lmcastroco@gmail.com](mailto:lmcastroco@gmail.com)  \n",
        "- 🎓 **Universidad:** Universidad Externado de Colombia - Facultad de Economía"
      ]
    },
    {
      "cell_type": "markdown",
      "id": "7TpqpFM9PQbp",
      "metadata": {
        "id": "7TpqpFM9PQbp"
      },
      "source": [
        "# ⚖️ **Regresión Polinómica, Subajuste, Sobreajuste y Regularización**"
      ]
    },
    {
      "cell_type": "markdown",
      "id": "F1l5E-8fEA2a",
      "metadata": {
        "id": "F1l5E-8fEA2a"
      },
      "source": [
        "**Objetivos de Aprendizaje**\n",
        "\n",
        "Al finalizar este notebook, los estudiantes serás capaz de:\n",
        "\n",
        "1. **Entrenar modelos de Regresión Polinómica.**\n",
        "2.  **Entender los problemas de `underfitting` y `overfitting`** y el Trade-off entre Sesgo y Varianza.\n",
        "3.  **Implementar la Regularización (Ridge y Lasso)** como una técnica fundamental para controlar la complejidad del modelo y mejorar su capacidad de generalización."
      ]
    },
    {
      "cell_type": "markdown",
      "id": "3SVOGrnBU-nZ",
      "metadata": {
        "id": "3SVOGrnBU-nZ"
      },
      "source": [
        "## Importar Librerías"
      ]
    },
    {
      "cell_type": "code",
      "execution_count": null,
      "id": "2_8XcDZJEA2r",
      "metadata": {
        "id": "2_8XcDZJEA2r"
      },
      "outputs": [],
      "source": [
        "# Importación de librerías estándar\n",
        "import os\n",
        "import numpy as np\n",
        "import pandas as pd\n",
        "import matplotlib.pyplot as plt\n",
        "import seaborn as sns\n",
        "import warnings\n",
        "warnings.filterwarnings('ignore')\n",
        "\n",
        "# Importación de herramientas de scikit-learn\n",
        "from sklearn.model_selection import train_test_split\n",
        "from sklearn.linear_model import LinearRegression, Ridge, Lasso\n",
        "from sklearn.preprocessing import PolynomialFeatures, StandardScaler\n",
        "from sklearn.pipeline import Pipeline\n",
        "from sklearn.metrics import mean_squared_error"
      ]
    },
    {
      "cell_type": "markdown",
      "id": "jHE2ZLJuEPIe",
      "metadata": {
        "id": "jHE2ZLJuEPIe"
      },
      "source": [
        "## Mejorar visualización de dataframes y gráficos"
      ]
    },
    {
      "cell_type": "code",
      "execution_count": null,
      "id": "72TA8V1fETCm",
      "metadata": {
        "id": "72TA8V1fETCm"
      },
      "outputs": [],
      "source": [
        "# Que muestre todas las columnas\n",
        "pd.options.display.max_columns = None\n",
        "# En los dataframes, mostrar los float con dos decimales\n",
        "pd.options.display.float_format = '{:,.2f}'.format\n",
        "\n",
        "# Configuraciones para una mejor visualización\n",
        "sns.set(style='whitegrid')\n",
        "plt.rcParams['figure.figsize'] = (10, 6)"
      ]
    },
    {
      "cell_type": "markdown",
      "id": "Dp4z8RCiVVjq",
      "metadata": {
        "id": "Dp4z8RCiVVjq"
      },
      "source": [
        "## Cargar datos"
      ]
    },
    {
      "cell_type": "code",
      "execution_count": null,
      "id": "KYRaLbXlMc_c",
      "metadata": {
        "id": "KYRaLbXlMc_c"
      },
      "outputs": [],
      "source": [
        "from google.colab import drive, files\n",
        "drive.mount('/content/drive')"
      ]
    },
    {
      "cell_type": "code",
      "execution_count": null,
      "id": "dQSa_neuGLji",
      "metadata": {
        "id": "dQSa_neuGLji"
      },
      "outputs": [],
      "source": [
        "path = '/content/drive/MyDrive/2025_ii_curso_ia_economia/datasets'"
      ]
    },
    {
      "cell_type": "code",
      "execution_count": null,
      "id": "cka8EDXhQuee",
      "metadata": {
        "id": "cka8EDXhQuee"
      },
      "outputs": [],
      "source": [
        "# Para establecer el directorio de los archivos\n",
        "os.chdir(path)"
      ]
    },
    {
      "cell_type": "code",
      "execution_count": null,
      "id": "T7Vj-X81VfZg",
      "metadata": {
        "id": "T7Vj-X81VfZg"
      },
      "outputs": [],
      "source": [
        "df = pd.read_csv('Salary_Data.csv')\n",
        "print(df.shape)\n",
        "df.head()"
      ]
    },
    {
      "cell_type": "markdown",
      "id": "NJnsbQZVEA2t",
      "metadata": {
        "id": "NJnsbQZVEA2t"
      },
      "source": [
        "## Limpieza de Datos\n",
        "\n",
        "Inspeccionamos los tipos de datos y los valores nulos, tal como se haría en un proyecto real (y como se hace en el notebook de referencia)."
      ]
    },
    {
      "cell_type": "code",
      "execution_count": null,
      "id": "awzj_rASV1y6",
      "metadata": {
        "id": "awzj_rASV1y6"
      },
      "outputs": [],
      "source": [
        "print(\"Información del DataFrame:\")\n",
        "df.info()"
      ]
    },
    {
      "cell_type": "code",
      "execution_count": null,
      "id": "9ht3Vf2iEA2u",
      "metadata": {
        "id": "9ht3Vf2iEA2u"
      },
      "outputs": [],
      "source": [
        "print(\"\\nValores Nulos por Columna:\")\n",
        "print(df.isnull().sum())"
      ]
    },
    {
      "cell_type": "code",
      "execution_count": null,
      "id": "VHcnDC2rWC2M",
      "metadata": {
        "id": "VHcnDC2rWC2M"
      },
      "outputs": [],
      "source": [
        "print(df.isnull().sum()/len(df)*100)"
      ]
    },
    {
      "cell_type": "markdown",
      "id": "3wq06K_BEA2y",
      "metadata": {
        "id": "3wq06K_BEA2y"
      },
      "source": [
        "Vemos que hay los valores nulos son muy pocos, por lo que vamos a eliminarlos, ya que esto no afectará significativamente al modelo."
      ]
    },
    {
      "cell_type": "code",
      "execution_count": null,
      "id": "4h72TX5cEA2y",
      "metadata": {
        "id": "4h72TX5cEA2y"
      },
      "outputs": [],
      "source": [
        "# Eliminamos las filas con cualquier valor nulo\n",
        "df.dropna(inplace=True)\n",
        "\n",
        "print(\"Valores Nulos después de la limpieza:\")\n",
        "print(df.isnull().sum().sum()) # .sum().sum() da el total de nulos en todo el DataFrame"
      ]
    },
    {
      "cell_type": "markdown",
      "id": "fTatI5yuEA20",
      "metadata": {
        "id": "fTatI5yuEA20"
      },
      "source": [
        "## Enfoque Pedagógico\n",
        "\n",
        "El dataset tiene múltiples variables (categóricas y numéricas). Un modelo completo requeriría *One-Hot Encoding* o *Label Encoding* para `Gender`, `Education Level` y `Job Title`.\n",
        "\n",
        "**Sin embargo, para el objetivo de *esta clase* (entender el sobreajuste visualmente),** hacer todo ese preprocesamiento introduce demasiada complejidad que distrae del punto principal.\n",
        "\n",
        "Nos enfocaremos en la relación económica más clásica: **Teoría del Capital Humano**, que postula que el salario (`Salary`) es una función de la experiencia (`Years of Experience`). Esto nos permite modelar y visualizar el problema en 2D de forma muy clara."
      ]
    },
    {
      "cell_type": "markdown",
      "id": "4YaHEBJ5EA20",
      "metadata": {
        "id": "4YaHEBJ5EA20"
      },
      "source": [
        "## División del Conjunto de Datos\n",
        "\n",
        "Primero, seleccionamos nuestras variables `X` e `y`. Luego, dividimos los datos. **El EDA se debe hacer *después* de la división y *solo* sobre los datos de entrenamiento**, para evitar contaminar nuestro análisis con información del conjunto de prueba (lo que se conoce como *data leakage* o fuga de datos)."
      ]
    },
    {
      "cell_type": "code",
      "execution_count": null,
      "id": "wYvwt_W0EA21",
      "metadata": {
        "id": "wYvwt_W0EA21"
      },
      "outputs": [],
      "source": [
        "# 1. Seleccionar las variables de interés\n",
        "X = df[['Years of Experience']]\n",
        "y = df['Salary']\n",
        "\n",
        "# 2. Dividir en conjuntos de entrenamiento y prueba (70% train, 30% test)\n",
        "X_train, X_test, y_train, y_test = train_test_split(X, y, test_size=0.3, random_state=42)\n",
        "\n",
        "print(f\"Tamaño del set de Entrenamiento: {X_train.shape[0]} observaciones\")\n",
        "print(f\"Tamaño del set de Prueba: {X_test.shape[0]} observaciones\")"
      ]
    },
    {
      "cell_type": "code",
      "execution_count": null,
      "id": "49jOj0kQYK_p",
      "metadata": {
        "id": "49jOj0kQYK_p"
      },
      "outputs": [],
      "source": [
        "X_train.head()"
      ]
    },
    {
      "cell_type": "code",
      "execution_count": null,
      "id": "H6Gm1U5xYOCM",
      "metadata": {
        "id": "H6Gm1U5xYOCM"
      },
      "outputs": [],
      "source": [
        "y_train.head()"
      ]
    },
    {
      "cell_type": "markdown",
      "id": "JOuRbE_7EA21",
      "metadata": {
        "id": "JOuRbE_7EA21"
      },
      "source": [
        "## **Análisis Exploratorio de Datos (EDA) sobre Datos de Entrenamiento**\n",
        "\n",
        "Ahora, exploremos *únicamente* los datos de `(X_train, y_train)`."
      ]
    },
    {
      "cell_type": "code",
      "execution_count": null,
      "id": "oESkjtkZEA21",
      "metadata": {
        "id": "oESkjtkZEA21"
      },
      "outputs": [],
      "source": [
        "# 1. Relación entre Experiencia y Salario\n",
        "plt.figure(figsize=(10, 6))\n",
        "sns.scatterplot(x=X_train['Years of Experience'], y=y_train, alpha=0.6)\n",
        "plt.title('EDA: Relación entre Años de Experiencia y Salario (Datos de Entrenamiento)')\n",
        "plt.xlabel('Años de Experiencia')\n",
        "plt.ylabel('Salario (USD)')\n",
        "plt.show()"
      ]
    },
    {
      "cell_type": "markdown",
      "id": "LwmLLjDvEA21",
      "metadata": {
        "id": "LwmLLjDvEA21"
      },
      "source": [
        "**Interpretación del EDA:**\n",
        "\n",
        "Observamos una relación positiva muy fuerte: a más experiencia, mayor salario. Sin embargo, la nube de puntos parece curvarse ligeramente a medida que aumenta la experiencia. Esto sugiere que un modelo lineal simple (una sola recta) no es adecuado. La teoría económica (rendimientos marginales de la experiencia) apoyaría la idea de que la relación no es perfectamente lineal."
      ]
    },
    {
      "cell_type": "code",
      "execution_count": null,
      "id": "e9SHBW_dEA22",
      "metadata": {
        "id": "e9SHBW_dEA22"
      },
      "outputs": [],
      "source": [
        "# 2. Distribución de las variables\n",
        "fig, axes = plt.subplots(1, 2, figsize=(16, 6))\n",
        "\n",
        "sns.histplot(y_train, kde=True, ax=axes[0], bins=30)\n",
        "axes[0].set_title('Distribución de Salarios (Entrenamiento)')\n",
        "axes[0].set_xlabel('Salario (USD)')\n",
        "\n",
        "sns.histplot(X_train['Years of Experience'], kde=True, ax=axes[1], bins=20)\n",
        "axes[1].set_title('Distribución de Años de Experiencia (Entrenamiento)')\n",
        "axes[1].set_xlabel('Años de Experiencia')\n",
        "\n",
        "plt.show()"
      ]
    },
    {
      "cell_type": "markdown",
      "id": "BUuv1dwUEA22",
      "metadata": {
        "id": "BUuv1dwUEA22"
      },
      "source": [
        "## Modelo 1 - Subajuste (Underfitting)\n",
        "\n",
        "Comencemos con el modelo más simple posible: una regresión lineal simple."
      ]
    },
    {
      "cell_type": "code",
      "execution_count": null,
      "id": "5ZhycTX1EA23",
      "metadata": {
        "id": "5ZhycTX1EA23"
      },
      "outputs": [],
      "source": [
        "# Creación y entrenamiento del modelo lineal simple\n",
        "model_simple = LinearRegression()\n",
        "model_simple.fit(X_train, y_train)\n",
        "\n",
        "# Predicciones\n",
        "y_train_pred_simple = model_simple.predict(X_train)\n",
        "y_test_pred_simple = model_simple.predict(X_test)\n",
        "\n",
        "# Cálculo del error (RMSE - Root Mean Squared Error)\n",
        "# Usamos RMSE para que el error esté en las mismas unidades que el salario (USD)\n",
        "rmse_train_simple = np.sqrt(mean_squared_error(y_train, y_train_pred_simple))\n",
        "rmse_test_simple = np.sqrt(mean_squared_error(y_test, y_test_pred_simple))\n",
        "\n",
        "print(f\"RMSE en Entrenamiento (Lineal): ${rmse_train_simple:,.2f}\")\n",
        "print(f\"RMSE en Prueba (Lineal): ${rmse_test_simple:,.2f}\")"
      ]
    },
    {
      "cell_type": "code",
      "execution_count": null,
      "id": "ByNYVhLkEA23",
      "metadata": {
        "id": "ByNYVhLkEA23"
      },
      "outputs": [],
      "source": [
        "# Visualización del modelo de Subajuste\n",
        "\n",
        "# Dibujar una línea de regresión suave y continua\n",
        "# Para la línea, creamos puntos ordenados de X\n",
        "X_plot = np.linspace(X_train.min(), X_train.max(), 100)\n",
        "y_plot_simple = model_simple.predict(X_plot)\n",
        "\n",
        "plt.figure(figsize=(10, 6))\n",
        "plt.scatter(X_train, y_train, alpha=0.3, label='Datos de Entrenamiento')\n",
        "plt.plot(X_plot, y_plot_simple, color='red', linewidth=3, label='Regresión Lineal Simple (Alto Sesgo)')\n",
        "plt.title('Modelo 1: Subajuste (Underfitting)')\n",
        "plt.xlabel('Años de Experiencia')\n",
        "plt.ylabel('Salario (USD)')\n",
        "plt.legend()\n",
        "plt.show()"
      ]
    },
    {
      "cell_type": "markdown",
      "id": "_d8UKmUgEA23",
      "metadata": {
        "id": "_d8UKmUgEA23"
      },
      "source": [
        "**Interpretación:**\n",
        "\n",
        "El modelo lineal captura la tendencia general, pero podemos ver visualmente que **sobrestima** sistemáticamente los salarios para empleados con más de 20 años de experiencia."
      ]
    },
    {
      "cell_type": "markdown",
      "id": "XwGM8eEAEA24",
      "metadata": {
        "id": "XwGM8eEAEA24"
      },
      "source": [
        "## Modelo 2 - Sobreajuste (Overfitting)\n",
        "\n",
        "Ahora, vamos al extremo opuesto. Crearemos un modelo extremadamente flexible (un polinomio de grado 25) que \"memorizará\" los datos."
      ]
    },
    {
      "cell_type": "code",
      "execution_count": null,
      "id": "6BqfbcapEA24",
      "metadata": {
        "id": "6BqfbcapEA24"
      },
      "outputs": [],
      "source": [
        "# Creamos un pipeline para automatizar los pasos:\n",
        "# 1. Crear características polinómicas de grado 25\n",
        "# 2. Escalar las características (Explicado arriba)\n",
        "# 3. Ajustar un modelo lineal a esas características\n",
        "\n",
        "pipeline_poly = Pipeline([\n",
        "    (\"poly_features\", PolynomialFeatures(degree=25, include_bias=False)),\n",
        "    (\"scaler\", StandardScaler()),\n",
        "    (\"model\", LinearRegression())\n",
        "])\n",
        "\n",
        "pipeline_poly.fit(X_train, y_train)\n",
        "\n",
        "# Predicciones y error\n",
        "y_train_pred_poly = pipeline_poly.predict(X_train)\n",
        "y_test_pred_poly = pipeline_poly.predict(X_test)\n",
        "\n",
        "rmse_train_poly = np.sqrt(mean_squared_error(y_train, y_train_pred_poly))\n",
        "rmse_test_poly = np.sqrt(mean_squared_error(y_test, y_test_pred_poly))\n",
        "\n",
        "print(f\"RMSE en Entrenamiento (Poli-25): ${rmse_train_poly:,.2f} <-- ¡El error de entrenamiento bajó!\")\n",
        "print(f\"RMSE en Prueba (Poli-25): ${rmse_test_poly:,.2f} <-- ¡¡El error de prueba aumentó considerablemente!!\")"
      ]
    },
    {
      "cell_type": "code",
      "execution_count": null,
      "id": "9WpGHcuiEA24",
      "metadata": {
        "id": "9WpGHcuiEA24"
      },
      "outputs": [],
      "source": [
        "# Visualización del modelo de Sobreajuste\n",
        "\n",
        "# Para visualizar la curva, usamos los puntos X ordenados\n",
        "y_plot_poly = pipeline_poly.predict(X_plot)\n",
        "\n",
        "plt.figure(figsize=(10, 6))\n",
        "plt.scatter(X_train, y_train, alpha=0.3, label='Datos de Entrenamiento')\n",
        "plt.plot(X_plot, y_plot_poly, color='red', linewidth=3, label='Poli-25 (Alta Varianza)')\n",
        "plt.title('Modelo 2: Sobreajuste (Overfitting)')\n",
        "plt.xlabel('Años de Experiencia')\n",
        "plt.ylabel('Salario (USD)')\n",
        "plt.legend()\n",
        "plt.ylim(0, 300000) # Establecemos un límite en el eje Y\n",
        "plt.show()"
      ]
    },
    {
      "cell_type": "markdown",
      "id": "b9bXkp6OEA25",
      "metadata": {
        "id": "b9bXkp6OEA25"
      },
      "source": [
        "**Interpretación:**\n",
        "\n",
        "¡Miren el desastre! La curva se vuelve loca, tratando de pasar por cada punto. El RMSE de entrenamiento es más bajo que el del modelo lineal (~$27.000), lo que indica que es \"mejor\" para describir los datos que ya vio.\n",
        "\n",
        "Sin embargo, la curva se vuelve **errática** y al enfrentarse a los datos de prueba, el error aumenta bastante (~$135.000). Este modelo **memorizó el ruido**, no el patrón subyacente."
      ]
    },
    {
      "cell_type": "markdown",
      "id": "tR-vmB6OEA25",
      "metadata": {
        "id": "tR-vmB6OEA25"
      },
      "source": [
        "## La Solución - Regularización (Ridge y Lasso)"
      ]
    },
    {
      "cell_type": "markdown",
      "id": "T1cKSxpuvemF",
      "metadata": {
        "id": "T1cKSxpuvemF"
      },
      "source": [
        "La regularización es una técnica que penaliza al modelo por ser demasiado complejo. Funciona modificando la \"función de costos\" del modelo (la fórmula que intenta minimizar).\n",
        "\n",
        "Regresión Lineal (OLS): Su objetivo es simple, encontrar los coeficientes ($\\beta$) que minimicen el Error Cuadrático Medio (MSE).\n",
        "\n",
        "Costo = Error\n",
        "\n",
        "Regresión Lineal Regularizada: Su objetivo es un balance. Quiere minimizar el error, pero también quiere minimizar la complejidad. Para ello, le añadimos un \"impuesto a la complejidad\".\n",
        "\n",
        "Costo = Error + Penalización\n",
        "\n",
        "El modelo ahora tiene que justificar cada coeficiente. Un coeficiente solo puede ser grande si logra una reducción importante en el MSE que \"pague\" el costo de su propia penalización.\n",
        "\n",
        "Hay dos tipos principales de penalización que dan lugar a dos modelos: Ridge (L2) y Lasso (L1).\n",
        "\n",
        "1. **Regresión Ridge (Penalización L2)**\n",
        "\n",
        "La Regresión Ridge suaviza los coeficientes ($\\beta$).\n",
        "\n",
        "- *Cómo funciona:*\n",
        "\n",
        "Añade una penalización proporcional al cuadrado de la magnitud de cada coeficiente.\n",
        "\n",
        "Penalización Ridge (L2) = α * Σ(β²)\n",
        "\n",
        "- *El Resultado:*\n",
        "\n",
        "La penalización al cuadrado castiga de forma exponencial los coeficientes muy grandes. Si un coeficiente ($\\beta$) intenta crecer de 5 a 10:El error (MSE) puede bajar un poco, pero su penalización sube de $5^2=25$ a $10^2=100$.\n",
        "\n",
        "El modelo rápidamente aprende que \"no vale la pena\" tener coeficientes tan grandes y los encoge a todos para encontrar un balance.\n",
        "\n",
        "- *Efecto Clave:*\n",
        "\n",
        "Ridge hace que los coeficientes sean pequeños. Simplemente los suaviza, \"domando\" la curva errática que vimos. Es útil si hay problemas de multicolinealidad, puesto que Ridge tiende a encoger los coeficientes de todas las variables correlacionadas de manera similar, repartiendo su efecto.\n",
        "\n",
        "2. **Regresión Lasso (Penalización L1)**\n",
        "\n",
        "Lasso es un \"selector de variables\".\n",
        "\n",
        "- *Cómo funciona:*\n",
        "\n",
        "Añade una penalización proporcional al valor absoluto de cada coeficiente.\n",
        "\n",
        "Penalización Lasso (L1) = α * Σ(|β|)\n",
        "\n",
        "- *El Resultado:*\n",
        "\n",
        "La penalización por el valor absoluto tiene una propiedad matemática asombrosa. A medida que aumenta la fuerza de la penalización (alpha), el modelo descubre que la mejor manera de minimizar el costo total es eliminar por completo los coeficientes de las variables menos importantes, llevándolos exactamente a cero.\n",
        "\n",
        "- *Efecto Clave:*\n",
        "\n",
        "Lasso realiza una selección automática de variables. Le das 25 características polinómicas (ruidosas) y te dice: \"He analizado todas, y la verdad es que 20 de ellas son inútiles (cero), así que me quedo solo con las 5 que realmente importan\".\n",
        "\n",
        "Algoritmos donde se utilizan Ridge (L2) y Lasso (L1):\n",
        "- Regresión lineal\n",
        "- Regresión polinómica\n",
        "- Regresión Logística\n",
        "- Redes neuronales\n",
        "- Máquinas de Soporte Vectorial (SVM)"
      ]
    },
    {
      "cell_type": "markdown",
      "id": "WpBoPWd60Q5H",
      "metadata": {
        "id": "WpBoPWd60Q5H"
      },
      "source": [
        "**¿Cómo determino el valor de alpha al aplicar Ridge y Lasso?**\n",
        "\n",
        "No hay una regla que seguir, ni se debe adivinar. Para encontrar el alpha óptimo se usan técnicas como la Validación Cruzada (Cross-Validation), que veremos más adelante, para probar un rango de valores (ej. 0.1, 1, 10, 100, 1000) y encontrar el alpha que da el menor error en datos de prueba."
      ]
    },
    {
      "cell_type": "markdown",
      "id": "usQb0adjEA24",
      "metadata": {
        "id": "usQb0adjEA24"
      },
      "source": [
        "**¿Por qué Estandarizar (`StandardScaler`) al utilizar Ridge y Lasso?**\n",
        "\n",
        "Al utilizar `PolynomialFeatures(degree=25)` se crean nuevas variables: `Experiencia^2`, `Experiencia^3`, `Experiencia^4`, ... `Experiencia^25`.\n",
        "\n",
        "Pensemos en un empleado con 10 años de experiencia:\n",
        "* `Experiencia` = 10\n",
        "* `Experiencia^2` = 100\n",
        "* `Experiencia^15` = 10,000,000,000,000,000,000,000,000\n",
        "\n",
        "Las escalas de nuestras variables son **drásticamente diferentes**. Un modelo de regresión (incluyendo Ridge y Lasso) penaliza la **magnitud de los coeficientes**.\n",
        "\n",
        "Si no estandarizamos, el modelo penalizará injustamente a las variables de menor grado (como `Experiencia`) y tendrá problemas numéricos con las de grado alto.\n",
        "\n",
        "**Recomendación: Siempre que uses regularización o características polinómicas, DEBES estandarizar (escalar) tus datos primero.**"
      ]
    },
    {
      "cell_type": "markdown",
      "id": "TkF1awDevsEE",
      "metadata": {
        "id": "TkF1awDevsEE"
      },
      "source": [
        "Ahora vamos a \"curar\" el sobreajuste. Usaremos el mismo modelo polinómico de grado 25, pero cambiaremos `LinearRegression` por `Ridge` y `Lasso`."
      ]
    },
    {
      "cell_type": "markdown",
      "id": "bhNzZlRwEA25",
      "metadata": {
        "id": "bhNzZlRwEA25"
      },
      "source": [
        "## Modelo 3: Regresión Ridge (Penalización L2)\n",
        "\n",
        "Ridge (L2) añade una penalización por los coeficientes *al cuadrado*. \"Encoge\" los coeficientes de las variables ruidosas, pero no los lleva a cero."
      ]
    },
    {
      "cell_type": "code",
      "execution_count": null,
      "id": "wvRpwS03EA26",
      "metadata": {
        "id": "wvRpwS03EA26"
      },
      "outputs": [],
      "source": [
        "# Creamos un pipeline con Regresión Ridge\n",
        "# alpha es la fuerza de la penalización. Empecemos con un valor de 10.\n",
        "\n",
        "pipeline_ridge = Pipeline([\n",
        "    (\"poly_features\", PolynomialFeatures(degree=25, include_bias=False)),\n",
        "    (\"scaler\", StandardScaler()),\n",
        "    (\"model\", Ridge(alpha=10))\n",
        "])\n",
        "\n",
        "pipeline_ridge.fit(X_train, y_train)\n",
        "\n",
        "# Predicciones y error\n",
        "y_train_pred_ridge = pipeline_ridge.predict(X_train)\n",
        "y_test_pred_ridge = pipeline_ridge.predict(X_test)\n",
        "\n",
        "rmse_train_ridge = np.sqrt(mean_squared_error(y_train, y_train_pred_ridge))\n",
        "rmse_test_ridge = np.sqrt(mean_squared_error(y_test, y_test_pred_ridge))\n",
        "\n",
        "print(f\"RMSE Entrenamiento (Ridge): ${rmse_train_ridge:,.2f}\")\n",
        "print(f\"RMSE Prueba (Poli-25): ${rmse_test_poly:,.2f} (El modelo sobreajustado)\")\n",
        "print(f\"RMSE Prueba (Ridge): ${rmse_test_ridge:,.2f} <-- ¡¡Gran mejora!!\")"
      ]
    },
    {
      "cell_type": "code",
      "execution_count": null,
      "id": "L98I-_8mEA26",
      "metadata": {
        "id": "L98I-_8mEA26"
      },
      "outputs": [],
      "source": [
        "# Visualización del modelo Ridge\n",
        "y_plot_ridge = pipeline_ridge.predict(X_plot)\n",
        "\n",
        "plt.figure(figsize=(10, 6))\n",
        "plt.scatter(X_train, y_train, alpha=0.3, label='Datos de Entrenamiento')\n",
        "plt.plot(X_plot, y_plot_poly, color='gray', linestyle='--', label='Poli-25 (Overfit)')\n",
        "plt.plot(X_plot, y_plot_ridge, color='green', linewidth=3, label='Ridge (Regularizado L2)')\n",
        "plt.title('Modelo 3: Curando el Sobreajuste con Ridge')\n",
        "plt.xlabel('Años de Experiencia')\n",
        "plt.ylabel('Salario (USD)')\n",
        "plt.legend()\n",
        "plt.ylim(0, 300000)\n",
        "plt.show()"
      ]
    },
    {
      "cell_type": "markdown",
      "id": "N5m7lSMoEA26",
      "metadata": {
        "id": "N5m7lSMoEA26"
      },
      "source": [
        "**Interpretación:** ¡Miren la diferencia! La curva de Ridge (verde) es **flexible** (captura la no linealidad mejor que la recta) pero **suave** y **creíble**.\n",
        "\n",
        "La penalización L2 \"domó\" la complejidad. El RMSE de entrenamiento subió un poco (lo cual es bueno, dejó de memorizar), pero el RMSE de prueba **bajó drásticamente**. El modelo ahora generaliza."
      ]
    },
    {
      "cell_type": "markdown",
      "id": "IPnoV0pSEA26",
      "metadata": {
        "id": "IPnoV0pSEA26"
      },
      "source": [
        "## Modelo 4: Regresión Lasso (Penalización L1) y Selección de Variables\n",
        "\n",
        "Lasso (L1) añade una penalización por el *valor absoluto* de los coeficientes. Su superpoder es que puede llevar coeficientes irrelevantes **exactamente a cero**."
      ]
    },
    {
      "cell_type": "code",
      "execution_count": null,
      "id": "U0Px0qblEA26",
      "metadata": {
        "id": "U0Px0qblEA26"
      },
      "outputs": [],
      "source": [
        "# Creamos un pipeline con Regresión Lasso\n",
        "# Los salarios son números grandes, por lo que el error es grande. Necesitamos un alpha grande.\n",
        "# Probemos con alpha=500. Aumentamos max_iter para asegurar que converja.\n",
        "\n",
        "pipeline_lasso = Pipeline([\n",
        "    (\"poly_features\", PolynomialFeatures(degree=25, include_bias=False)),\n",
        "    (\"scaler\", StandardScaler()),\n",
        "    (\"model\", Lasso(alpha=500, max_iter=10000))\n",
        "])\n",
        "\n",
        "pipeline_lasso.fit(X_train, y_train)\n",
        "\n",
        "# Predicciones y error\n",
        "y_train_pred_lasso = pipeline_lasso.predict(X_train)\n",
        "y_test_pred_lasso = pipeline_lasso.predict(X_test)\n",
        "\n",
        "rmse_train_lasso = np.sqrt(mean_squared_error(y_train, y_train_pred_lasso))\n",
        "rmse_test_lasso = np.sqrt(mean_squared_error(y_test, y_test_pred_lasso))\n",
        "\n",
        "print(f\"RMSE Entrenamiento (Lasso): ${rmse_train_lasso:,.2f}\")\n",
        "print(f\"RMSE Prueba (Ridge): ${rmse_test_ridge:,.2f} <-- ¡El mejor resultado hasta ahora!\")\n",
        "print(f\"RMSE Prueba (Lasso): ${rmse_test_lasso:,.2f}\")"
      ]
    },
    {
      "cell_type": "code",
      "execution_count": null,
      "id": "sU52jZZjEA27",
      "metadata": {
        "id": "sU52jZZjEA27"
      },
      "outputs": [],
      "source": [
        "# Visualización del modelo Lasso\n",
        "y_plot_lasso = pipeline_lasso.predict(X_plot)\n",
        "\n",
        "plt.figure(figsize=(10, 6))\n",
        "plt.scatter(X_train, y_train, alpha=0.3, label='Datos de Entrenamiento')\n",
        "plt.plot(X_plot, y_plot_ridge, color='gray', linestyle='--', label='Ridge')\n",
        "plt.plot(X_plot, y_plot_lasso, color='purple', linewidth=3, label='Lasso (Regularizado L1)')\n",
        "plt.title('Modelo 4: Simplificando con Lasso')\n",
        "plt.xlabel('Años de Experiencia')\n",
        "plt.ylabel('Salario (USD)')\n",
        "plt.legend()\n",
        "plt.ylim(0, 300000)\n",
        "plt.show()"
      ]
    },
    {
      "cell_type": "markdown",
      "id": "4fcc3PCUEA27",
      "metadata": {
        "id": "4fcc3PCUEA27"
      },
      "source": [
        "### La Magia de Lasso: Selección de Variables\n",
        "\n",
        "Veamos los coeficientes que Lasso ha aprendido. Recuerden que partimos de un modelo con 25 características (`Exp^1`, `Exp^2`, ..., `Exp^25`)."
      ]
    },
    {
      "cell_type": "code",
      "execution_count": null,
      "id": "ydFau41VEA3M",
      "metadata": {
        "id": "ydFau41VEA3M"
      },
      "outputs": [],
      "source": [
        "# Extraemos los coeficientes del modelo Lasso en el pipeline\n",
        "coefs_lasso = pipeline_lasso.named_steps['model'].coef_\n",
        "\n",
        "num_total_coeffs = len(coefs_lasso)\n",
        "num_zero_coeffs = np.sum(coefs_lasso == 0)\n",
        "\n",
        "print(f\"Número total de coeficientes (características polinómicas): {num_total_coeffs}\")\n",
        "print(f\"Número de coeficientes llevados a CERO por Lasso: {num_zero_coeffs}\")\n",
        "print(f\"Número de coeficientes CONSERVADOS: {num_total_coeffs - num_zero_coeffs}\")\n",
        "\n",
        "print(\"\\n--- Valor de los Coeficientes ---\")\n",
        "print(coefs_lasso)"
      ]
    },
    {
      "cell_type": "markdown",
      "id": "Z9VOrn-jEA3M",
      "metadata": {
        "id": "Z9VOrn-jEA3M"
      },
      "source": [
        "**Interpretación:**\n",
        "\n",
        "¡Este es el resultado clave! De las 25 características polinómicas que le dimos, Lasso decidió que muchas (ej. 20 de 25) eran \"ruido\" y las **eliminó por completo** (llevando sus coeficientes a cero).\n",
        "\n",
        "Actuó como un **método automático de selección de variables**, dándonos un modelo más simple e interpretable (más **parsimonioso**) y con mejor rendimiento predictivo."
      ]
    },
    {
      "cell_type": "markdown",
      "id": "dVim3B9fEA3N",
      "metadata": {
        "id": "dVim3B9fEA3N"
      },
      "source": [
        "## Conclusiones y Resumen Comparativo\n",
        "\n",
        "Pongamos todos nuestros resultados en una tabla para ver la historia completa."
      ]
    },
    {
      "cell_type": "code",
      "execution_count": null,
      "id": "ITrkx7q7EA3N",
      "metadata": {
        "id": "ITrkx7q7EA3N"
      },
      "outputs": [],
      "source": [
        "# Creando un DataFrame para comparar los errores (RMSE)\n",
        "results = pd.DataFrame({\n",
        "    'Modelo': [\n",
        "        '1. Lineal Simple (Subajuste)',\n",
        "        '2. Polinómico Grado 25 (Sobreajuste)',\n",
        "        '3. Ridge (Regularizado L2)',\n",
        "        '4. Lasso (Regularizado L1)'\n",
        "    ],\n",
        "    'RMSE en Entrenamiento': [\n",
        "        rmse_train_simple,\n",
        "        rmse_train_poly,\n",
        "        rmse_train_ridge,\n",
        "        rmse_train_lasso\n",
        "    ],\n",
        "    'RMSE en Prueba': [\n",
        "        rmse_test_simple,\n",
        "        rmse_test_poly,\n",
        "        rmse_test_ridge,\n",
        "        rmse_test_lasso\n",
        "    ]\n",
        "})\n",
        "\n",
        "results_sorted = results.sort_values(by='RMSE en Prueba')\n",
        "\n",
        "print(\"Tabla Comparativa de Rendimiento (Error en Dólares)\")\n",
        "display(results_sorted.style.format({\n",
        "    'RMSE en Entrenamiento': '${:,.2f}',\n",
        "    'RMSE en Prueba': '${:,.2f}'\n",
        "}).background_gradient(cmap='Reds', subset=['RMSE en Prueba']))"
      ]
    },
    {
      "cell_type": "markdown",
      "id": "az3C6RqTEA3N",
      "metadata": {
        "id": "az3C6RqTEA3N"
      },
      "source": [
        "1.  **Subajuste (Modelo 1):** Es demasiado simple. Falla en capturar el patrón y tiene un error mediocre tanto en entrenamiento como en prueba (RMSE ~$31.000).\n",
        "2.  **Sobreajuste (Modelo 2):** Es demasiado complejo. \"Memoriza\" el ruido de los datos de entrenamiento (RMSE de entrenamiento bajo) pero es inútil para predecir nuevos datos (RMSE de prueba explota).\n",
        "3.  **Regularización (Modelos 3 y 4):** Son el \"punto óptimo\". Permiten usar un modelo flexible (polinómico) pero controlan su complejidad, previniendo el sobreajuste.\n",
        "\n",
        "El modelo **Ridge** fue el más preciso para predecir salarios para nuevas observaciones (el menor RMSE de prueba), por tanto, es el modelo que deberíamos elegir."
      ]
    },
    {
      "cell_type": "markdown",
      "id": "fGZz4URdtK5G",
      "metadata": {
        "id": "fGZz4URdtK5G"
      },
      "source": [
        "**Conclusión Final:**\n",
        "\n",
        "Partimos de un modelo demasiado simple (subajuste) y luego creamos uno deliberadamente complejo que se sobreajustó al ruido. La regularización, tanto Ridge como Lasso, nos permitió \"curar\" este sobreajuste, controlando la complejidad y mejorando drásticamente la capacidad del modelo para generalizar a nuevos datos. Lasso, en particular, nos dio el beneficio adicional de simplificar el modelo al realizar una selección automática de variables.\n",
        "\n",
        "El dilema entre overfitting y underfitting es el núcleo del machine learning aplicado. **Nuestro trabajo no es minimizar el error en los datos que ya tenemos, sino construir modelos que sean robustos y fiables para el futuro.**"
      ]
    }
  ],
  "metadata": {
    "colab": {
      "provenance": [],
      "toc_visible": true
    },
    "kernelspec": {
      "display_name": "Python 3 (ipykernel)",
      "language": "python",
      "name": "python3"
    },
    "language_info": {
      "codemirror_mode": {
        "name": "ipython",
        "version": 3
      },
      "file_extension": ".py",
      "mimetype": "text/x-python",
      "name": "python",
      "nbconvert_exporter": "python",
      "pygments_lexer": "ipython3",
      "version": "3.10.9"
    }
  },
  "nbformat": 4,
  "nbformat_minor": 5
}
